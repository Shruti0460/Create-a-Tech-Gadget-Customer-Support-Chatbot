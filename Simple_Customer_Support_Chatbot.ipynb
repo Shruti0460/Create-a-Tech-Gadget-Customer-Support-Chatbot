{
 "cells": [
  {
   "cell_type": "code",
   "execution_count": null,
   "id": "f62324a6-baab-4b05-bbe8-ea0ec5b0f9c3",
   "metadata": {},
   "outputs": [
    {
     "name": "stdin",
     "output_type": "stream",
     "text": [
      "You:  hi\n"
     ]
    },
    {
     "name": "stdout",
     "output_type": "stream",
     "text": [
      "Bot: Hello! Welcome to TechGadget Support. How can I assist you today?\n"
     ]
    },
    {
     "name": "stdin",
     "output_type": "stream",
     "text": [
      "You:  do you have smartwatches\n"
     ]
    },
    {
     "name": "stdout",
     "output_type": "stream",
     "text": [
      "Bot: Yes, we have a variety of smartwatches. You can check them out on our products page.\n"
     ]
    },
    {
     "name": "stdin",
     "output_type": "stream",
     "text": [
      "You:  shipping time\n"
     ]
    },
    {
     "name": "stdout",
     "output_type": "stream",
     "text": [
      "Bot: Hello! Welcome to TechGadget Support. How can I assist you today?\n"
     ]
    },
    {
     "name": "stdin",
     "output_type": "stream",
     "text": [
      "You:  shipping methods\n"
     ]
    },
    {
     "name": "stdout",
     "output_type": "stream",
     "text": [
      "Bot: Hello! Welcome to TechGadget Support. How can I assist you today?\n"
     ]
    },
    {
     "name": "stdin",
     "output_type": "stream",
     "text": [
      "You:  won’t turn on\n"
     ]
    },
    {
     "name": "stdout",
     "output_type": "stream",
     "text": [
      "Bot: Make sure your gadget is charged. If it still won’t turn on, you can visit our troubleshooting page.\n"
     ]
    },
    {
     "name": "stdin",
     "output_type": "stream",
     "text": [
      "You:  return policy\n"
     ]
    },
    {
     "name": "stdout",
     "output_type": "stream",
     "text": [
      "Bot: You can return products within 30 days of receipt for a full refund.\n"
     ]
    },
    {
     "name": "stdin",
     "output_type": "stream",
     "text": [
      "You:  how to return\n"
     ]
    },
    {
     "name": "stdout",
     "output_type": "stream",
     "text": [
      "Bot: To return a product, please visit our returns page for a step-by-step guide.\n"
     ]
    }
   ],
   "source": [
    "# Simple Customer Support Chatbot\n",
    "\n",
    "responses = {\n",
    "      \"hi\": \"Hello! Welcome to TechGadget Support. How can I assist you today?\",\n",
    "      \"do you have smartwatches\": \"Yes, we have a variety of smartwatches. You can check them out on our products page.\",\n",
    "      \"shipping time\": \"Shipping usually takes 3-5 business days.\",\n",
    "      \"shipping methods\": \"We offer standard, expedited, and overnight shipping.\",\n",
    "      \"return policy\": \"You can return products within 30 days of receipt for a full refund.\",\n",
    "      \"how to return\": \"To return a product, please visit our returns page for a step-by-step guide.\",\n",
    "      \"won’t turn on\": \"Make sure your gadget is charged. If it still won’t turn on, you can visit our troubleshooting page.\",\n",
    "      \"reset device\": \"To reset your device, hold down the power button for 10 seconds. If that doesn't work, please check the manual for a factory reset.\",\n",
    "      \"bye\": \"Thank you for visiting TechGadget. If you have more questions, feel free to ask. Goodbye!\"\n",
    "}\n",
    "\n",
    "def get_bot_response(user_input):\n",
    "      user_input = user_input.lower()\n",
    "\n",
    "      for keyword, response in responses.items():\n",
    "          if keyword in user_input:\n",
    "              return response\n",
    "\n",
    "      return \"I'm not sure how to respond to that. Can you try asking something else?\"\n",
    "\n",
    "while True:\n",
    "      user_input = input(\"You: \")\n",
    "      if user_input.lower() in [\"quit\", \"exit\", \"bye\"]:\n",
    "          print(\"Bot: Goodbye! If you have any more questions, we're here to help.\")\n",
    "          break\n",
    "\n",
    "      response = get_bot_response(user_input)\n",
    "      print(f\"Bot: {response}\")\n"
   ]
  },
  {
   "cell_type": "code",
   "execution_count": null,
   "id": "e3e183e5-15a0-4ebf-a632-a33d88066343",
   "metadata": {},
   "outputs": [],
   "source": []
  }
 ],
 "metadata": {
  "kernelspec": {
   "display_name": "Python 3 (ipykernel)",
   "language": "python",
   "name": "python3"
  },
  "language_info": {
   "codemirror_mode": {
    "name": "ipython",
    "version": 3
   },
   "file_extension": ".py",
   "mimetype": "text/x-python",
   "name": "python",
   "nbconvert_exporter": "python",
   "pygments_lexer": "ipython3",
   "version": "3.12.7"
  }
 },
 "nbformat": 4,
 "nbformat_minor": 5
}
